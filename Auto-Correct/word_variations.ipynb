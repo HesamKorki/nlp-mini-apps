{
 "metadata": {
  "language_info": {
   "codemirror_mode": {
    "name": "ipython",
    "version": 3
   },
   "file_extension": ".py",
   "mimetype": "text/x-python",
   "name": "python",
   "nbconvert_exporter": "python",
   "pygments_lexer": "ipython3",
   "version": "3.8.5"
  },
  "orig_nbformat": 4,
  "kernelspec": {
   "name": "python3",
   "display_name": "Python 3.8.5 64-bit ('base': conda)"
  },
  "interpreter": {
   "hash": "4046ce2d19f07b18c59cfcd67713046413c5304742748fa92700efd59abd08b7"
  }
 },
 "nbformat": 4,
 "nbformat_minor": 2,
 "cells": [
  {
   "source": [
    "We first need to find a way too check different splits of a potentially misspelled word"
   ],
   "cell_type": "markdown",
   "metadata": {}
  },
  {
   "source": [
    "word = \"mangoz\"\n",
    "splits = [(word[:i], word[i:]) for i in range(len(word))]\n",
    "splits"
   ],
   "cell_type": "code",
   "metadata": {},
   "execution_count": 3,
   "outputs": [
    {
     "output_type": "execute_result",
     "data": {
      "text/plain": [
       "[('', 'mangoz'),\n",
       " ('m', 'angoz'),\n",
       " ('ma', 'ngoz'),\n",
       " ('man', 'goz'),\n",
       " ('mang', 'oz'),\n",
       " ('mango', 'z')]"
      ]
     },
     "metadata": {},
     "execution_count": 3
    }
   ]
  },
  {
   "source": [
    "The Next thing that we are interested in is to check different kinds of edits that could possibly lead us to the correct spelling of the word\n",
    "## Delete Edit\n",
    "we delete each character from a given word"
   ],
   "cell_type": "markdown",
   "metadata": {}
  },
  {
   "cell_type": "code",
   "execution_count": 4,
   "metadata": {},
   "outputs": [
    {
     "output_type": "execute_result",
     "data": {
      "text/plain": [
       "['angoz', 'mngoz', 'magoz', 'manoz', 'mangz', 'mango']"
      ]
     },
     "metadata": {},
     "execution_count": 4
    }
   ],
   "source": [
    "deletes = [L + R[1:] for L,R in splits if R]\n",
    "deletes"
   ]
  },
  {
   "source": [
    "Assuming that a vocabulary of legitimate words is available, we need to check whether our delete edit members are present in the vocabulary to create a list of possible correctly spelled words. "
   ],
   "cell_type": "markdown",
   "metadata": {}
  },
  {
   "cell_type": "code",
   "execution_count": 5,
   "metadata": {},
   "outputs": [
    {
     "output_type": "execute_result",
     "data": {
      "text/plain": [
       "['mango']"
      ]
     },
     "metadata": {},
     "execution_count": 5
    }
   ],
   "source": [
    "vocab = [\"cucumber\", \"banana\", \"cherry\", \"strawberry\", \"mango\", \"apple\"] # a dummy vocabulary of fruits\n",
    "edits = list(deletes)\n",
    "\n",
    "candidates = list(set(vocab) & set(edits))\n",
    "\n",
    "candidates"
   ]
  },
  {
   "source": [
    "We should be able to take other types of edits into account for a broader spelling check --i.e, insert, replace, switch  "
   ],
   "cell_type": "markdown",
   "metadata": {}
  },
  {
   "cell_type": "code",
   "execution_count": null,
   "metadata": {},
   "outputs": [],
   "source": []
  }
 ]
}