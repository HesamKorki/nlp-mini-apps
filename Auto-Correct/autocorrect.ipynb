{
 "metadata": {
  "language_info": {
   "codemirror_mode": {
    "name": "ipython",
    "version": 3
   },
   "file_extension": ".py",
   "mimetype": "text/x-python",
   "name": "python",
   "nbconvert_exporter": "python",
   "pygments_lexer": "ipython3",
   "version": "3.8.3"
  },
  "orig_nbformat": 2,
  "kernelspec": {
   "name": "python383jvsc74a57bd0381002a92f4eb065232e75d360dbf83f6d8804854f4152103c42246c6ee94967",
   "display_name": "Python 3.8.3 64-bit ('env': venv)"
  },
  "metadata": {
   "interpreter": {
    "hash": "381002a92f4eb065232e75d360dbf83f6d8804854f4152103c42246c6ee94967"
   }
  }
 },
 "nbformat": 4,
 "nbformat_minor": 2,
 "cells": [
  {
   "source": [
    "# Auto Correct\n",
    "\n",
    "In this notebook I want to implement a fully working auto correct system which is simple yet functional. To elaborate, the system would correct words that are 1 and 2 edit distances away. \n",
    "An edit could consist of one of the following:\n",
    "- Delete: \"mangoz\" -> \"mango\", \"mngoz\", ...\n",
    "\n",
    "- Switch: \"atm\": \"tam\", \"amt\", ...\n",
    "\n",
    "- Replace: \"rat\": \"hat\", \"mat\", \"rap\", ...\n",
    "\n",
    "- Insert: \"pla\": \"play\", \"pela\", ...\n",
    "\n",
    "# Data PreProcessing\n"
   ],
   "cell_type": "markdown",
   "metadata": {}
  },
  {
   "cell_type": "code",
   "execution_count": 6,
   "metadata": {},
   "outputs": [],
   "source": [
    "import re\n",
    "from collections import Counter\n",
    "import numpy as np\n",
    "import pandas as pd\n",
    "import random"
   ]
  },
  {
   "source": [
    "The first step is to define a __process_data__ function that would read the corpus --*shakespeare.txt*-- and build a vocabulary based on that."
   ],
   "cell_type": "markdown",
   "metadata": {}
  },
  {
   "cell_type": "code",
   "execution_count": 40,
   "metadata": {},
   "outputs": [],
   "source": [
    "def process_data(file_name):\n",
    "    \"\"\"\n",
    "    Input: \n",
    "        A file_name which is found in your current directory. You            just have to read it in. \n",
    "    Output: \n",
    "        words: a list containing all the  words in the corpus (text           file you read) in lower case. \n",
    "    \"\"\"\n",
    "    with open(file_name) as f:\n",
    "        raw = f.read()\n",
    "    low_data = raw.lower()\n",
    "    words = re.findall(r\"\\w+\", low_data)\n",
    "    \n",
    "    return words"
   ]
  },
  {
   "cell_type": "code",
   "execution_count": 41,
   "metadata": {},
   "outputs": [
    {
     "output_type": "stream",
     "name": "stdout",
     "text": [
      "There are 6116 unique words. \nHere's 10 random samples from the vocabulary:\n"
     ]
    },
    {
     "output_type": "execute_result",
     "data": {
      "text/plain": [
       "['know',\n",
       " 'parcels',\n",
       " 'pain',\n",
       " 'o',\n",
       " 'despair',\n",
       " 'define',\n",
       " 'submit',\n",
       " 'grounded',\n",
       " 'tyrants',\n",
       " 'hercules']"
      ]
     },
     "metadata": {},
     "execution_count": 41
    }
   ],
   "source": [
    "words = process_data(\"shakespeare.txt\")\n",
    "vocab = set(words)\n",
    "print(f\"There are {len(vocab)} unique words. \\nHere's 10 random samples from the vocabulary:\")\n",
    "random.sample(vocab, 10)"
   ]
  },
  {
   "source": [
    "Now, we need a dictionary with words as its keys and the value of each is the number of times that word appear in our corpus. A word_frequency dictionary in essence. "
   ],
   "cell_type": "markdown",
   "metadata": {}
  },
  {
   "cell_type": "code",
   "execution_count": 42,
   "metadata": {},
   "outputs": [],
   "source": [
    "def get_count(word_l):\n",
    "    '''\n",
    "    Input:\n",
    "        word_l: a set of words representing the corpus. \n",
    "    Output:\n",
    "        word_count_dict: The wordcount dictionary where key is the           word and value is its frequency.\n",
    "    '''\n",
    "    \n",
    "    word_count_dict = {} \n",
    "    for word in word_l:\n",
    "        \n",
    "        if word_count_dict.get(word, False):\n",
    "            word_count_dict[word] += 1\n",
    "        else:\n",
    "            word_count_dict[word] = 1\n",
    "\n",
    "    return word_count_dict"
   ]
  },
  {
   "cell_type": "code",
   "execution_count": 44,
   "metadata": {},
   "outputs": [
    {
     "output_type": "execute_result",
     "data": {
      "text/plain": [
       "{'kindness': 2,\n",
       " 'vanquish': 1,\n",
       " 'underneath': 1,\n",
       " 'ruinate': 1,\n",
       " 'serpent': 3,\n",
       " 'prescriptions': 2,\n",
       " 'expressing': 1,\n",
       " 'chiding': 1,\n",
       " 'wife': 41,\n",
       " 'open': 5}"
      ]
     },
     "metadata": {},
     "execution_count": 44
    }
   ],
   "source": [
    "word_frequency = get_count(words)\n",
    "sample_words = random.sample(list(word_frequency),10)\n",
    "{k: word_frequency[k] for k in sample_words} ## 10 random sample from word_frequency dictionary"
   ]
  },
  {
   "cell_type": "code",
   "execution_count": 48,
   "metadata": {},
   "outputs": [],
   "source": [
    "def get_probs(word_count_dict):\n",
    "    '''\n",
    "    Input:\n",
    "        word_count_dict: The wordcount dictionary where key is the           word and value is its frequency.\n",
    "    Output:\n",
    "        probs: A dictionary where keys are the words and the values          are the probability that a word will occur. \n",
    "    '''\n",
    "    \n",
    "    total_words = sum(word_count_dict.values())\n",
    "    probs = {word: word_count_dict[word]/total_words for word in word_count_dict.keys()}\n",
    "    \n",
    "    return probs"
   ]
  },
  {
   "cell_type": "code",
   "execution_count": 49,
   "metadata": {},
   "outputs": [],
   "source": [
    "probs = get_probs(word_frequency)"
   ]
  },
  {
   "source": [
    "# String Edits\n",
    "\n",
    "* `delete_letter`: given a word, it returns all the possible strings that have **one character removed**. \n",
    "* `switch_letter`: given a word, it returns all the possible strings that have **two adjacent letters switched**.\n",
    "* `replace_letter`: given a word, it returns all the possible strings that have **one character replaced by another different letter**.\n",
    "* `insert_letter`: given a word, it returns all the possible strings that have an **additional character inserted**. "
   ],
   "cell_type": "markdown",
   "metadata": {}
  },
  {
   "cell_type": "code",
   "execution_count": 50,
   "metadata": {},
   "outputs": [],
   "source": [
    "def delete_letter(word, verbose=False):\n",
    "    '''\n",
    "    Input:\n",
    "        word: the string/word for which you will generate all                possible words in the vocabulary which have 1 missing                character\n",
    "    Output:\n",
    "        delete_l: a list of all possible strings obtained by                 deleting 1 character from word\n",
    "    '''\n",
    "     \n",
    "    split_l = [(word[:i], word[i:]) for i in range(len(word))]\n",
    "    delete_l = [L+R[1:] for L,R in split_l if R]\n",
    "\n",
    "\n",
    "    if verbose: print(f\"input word {word}, \\nsplit_l = {split_l}, \\ndelete_l = {delete_l}\")\n",
    "\n",
    "    return delete_l"
   ]
  },
  {
   "cell_type": "code",
   "execution_count": 51,
   "metadata": {},
   "outputs": [
    {
     "output_type": "stream",
     "name": "stdout",
     "text": [
      "input word brand, \nsplit_l = [('', 'brand'), ('b', 'rand'), ('br', 'and'), ('bra', 'nd'), ('bran', 'd'), ('brand', '')], \ndelete_l = ['rand', 'band', 'brnd', 'brad', 'bran']\n"
     ]
    }
   ],
   "source": [
    "delete_word_l = delete_letter(word=\"brand\",\n",
    "                        verbose=True)"
   ]
  },
  {
   "cell_type": "code",
   "execution_count": 52,
   "metadata": {},
   "outputs": [],
   "source": [
    "def switch_letter(word, verbose=False):\n",
    "    '''\n",
    "    Input:\n",
    "        word: input string\n",
    "     Output:\n",
    "        switches: a list of all possible strings with one adjacent           charater switched\n",
    "    ''' \n",
    "    \n",
    "    \n",
    "    split_l = [(word[:i], word[i:]) for i in range(len(word))]\n",
    "    switch_l = [L[:-1] + R[0] + L[-1] + R[1:] for L,R in split_l if R and L]\n",
    "\n",
    "    \n",
    "    if verbose: print(f\"Input word = {word} \\nsplit_l = {split_l} \\nswitch_l = {switch_l}\") \n",
    "\n",
    "    return switch_l"
   ]
  },
  {
   "cell_type": "code",
   "execution_count": 53,
   "metadata": {},
   "outputs": [
    {
     "output_type": "stream",
     "name": "stdout",
     "text": [
      "Input word = eta \nsplit_l = [('', 'eta'), ('e', 'ta'), ('et', 'a')] \nswitch_l = ['tea', 'eat']\n"
     ]
    }
   ],
   "source": [
    "switch_word_l = switch_letter(word=\"eta\",\n",
    "                         verbose=True)"
   ]
  },
  {
   "cell_type": "code",
   "execution_count": 55,
   "metadata": {},
   "outputs": [],
   "source": [
    "def replace_letter(word, verbose=False):\n",
    "    '''\n",
    "    Input:\n",
    "        word: the input string/word \n",
    "    Output:\n",
    "        replaces: a list of all possible strings where we replaced           one letter from the original word. \n",
    "    ''' \n",
    "    \n",
    "    letters = 'abcdefghijklmnopqrstuvwxyz'\n",
    "    split_l = [(word[:i], word[i:]) for i in range(len(word))]\n",
    "    replace_l = [L + let + R[1:] for L,R in split_l for let in letters]\n",
    "    replace_set = set(replace_l)\n",
    "    ### START CODE HERE ###\n",
    "\n",
    "    ### END CODE HERE ###\n",
    "    \n",
    "    # turn the set back into a list and sort it, for easier viewing\n",
    "    replace_l = sorted(list(replace_set))\n",
    "    \n",
    "    if verbose: print(f\"Input word = {word} \\nsplit_l = {split_l} \\nreplace_l {replace_l}\")   \n",
    "    \n",
    "    return replace_l"
   ]
  },
  {
   "cell_type": "code",
   "execution_count": 56,
   "metadata": {},
   "outputs": [
    {
     "output_type": "stream",
     "name": "stdout",
     "text": [
      "Input word = can \nsplit_l = [('', 'can'), ('c', 'an'), ('ca', 'n')] \nreplace_l ['aan', 'ban', 'caa', 'cab', 'cac', 'cad', 'cae', 'caf', 'cag', 'cah', 'cai', 'caj', 'cak', 'cal', 'cam', 'can', 'cao', 'cap', 'caq', 'car', 'cas', 'cat', 'cau', 'cav', 'caw', 'cax', 'cay', 'caz', 'cbn', 'ccn', 'cdn', 'cen', 'cfn', 'cgn', 'chn', 'cin', 'cjn', 'ckn', 'cln', 'cmn', 'cnn', 'con', 'cpn', 'cqn', 'crn', 'csn', 'ctn', 'cun', 'cvn', 'cwn', 'cxn', 'cyn', 'czn', 'dan', 'ean', 'fan', 'gan', 'han', 'ian', 'jan', 'kan', 'lan', 'man', 'nan', 'oan', 'pan', 'qan', 'ran', 'san', 'tan', 'uan', 'van', 'wan', 'xan', 'yan', 'zan']\n"
     ]
    }
   ],
   "source": [
    "replace_l = replace_letter(word='can',\n",
    "                              verbose=True)"
   ]
  },
  {
   "cell_type": "code",
   "execution_count": 57,
   "metadata": {},
   "outputs": [],
   "source": [
    "def insert_letter(word, verbose=False):\n",
    "    '''\n",
    "    Input:\n",
    "        word: the input string/word \n",
    "    Output:\n",
    "        inserts: a set of all possible strings with one new letter           inserted at every offset\n",
    "    ''' \n",
    "    letters = 'abcdefghijklmnopqrstuvwxyz'\n",
    "    split_l = [(word[:i], word[i:]) for i in range(len(word)+1)]\n",
    "    insert_l = [L + let + R for L,R in split_l for let in letters]\n",
    "\n",
    "    ### START CODE HERE ###\n",
    "\n",
    "    ### END CODE HERE ###\n",
    "\n",
    "    if verbose: print(f\"Input word {word} \\nsplit_l = {split_l} \\ninsert_l = {insert_l}\")\n",
    "    \n",
    "    return insert_l"
   ]
  },
  {
   "cell_type": "code",
   "execution_count": 58,
   "metadata": {},
   "outputs": [
    {
     "output_type": "stream",
     "name": "stdout",
     "text": [
      "Input word at \nsplit_l = [('', 'at'), ('a', 't'), ('at', '')] \ninsert_l = ['aat', 'bat', 'cat', 'dat', 'eat', 'fat', 'gat', 'hat', 'iat', 'jat', 'kat', 'lat', 'mat', 'nat', 'oat', 'pat', 'qat', 'rat', 'sat', 'tat', 'uat', 'vat', 'wat', 'xat', 'yat', 'zat', 'aat', 'abt', 'act', 'adt', 'aet', 'aft', 'agt', 'aht', 'ait', 'ajt', 'akt', 'alt', 'amt', 'ant', 'aot', 'apt', 'aqt', 'art', 'ast', 'att', 'aut', 'avt', 'awt', 'axt', 'ayt', 'azt', 'ata', 'atb', 'atc', 'atd', 'ate', 'atf', 'atg', 'ath', 'ati', 'atj', 'atk', 'atl', 'atm', 'atn', 'ato', 'atp', 'atq', 'atr', 'ats', 'att', 'atu', 'atv', 'atw', 'atx', 'aty', 'atz']\nNumber of strings output by insert_letter('at') is 78\n"
     ]
    }
   ],
   "source": [
    "insert_l = insert_letter('at', True)\n",
    "print(f\"Number of strings output by insert_letter('at') is {len(insert_l)}\")"
   ]
  },
  {
   "source": [
    "# Combining Edits\n",
    "We need two functions that wrap up all the possible single and double edits. `edit_one_letter()` and `edit_two_letters()`"
   ],
   "cell_type": "markdown",
   "metadata": {}
  },
  {
   "cell_type": "code",
   "execution_count": null,
   "metadata": {},
   "outputs": [],
   "source": []
  },
  {
   "source": [
    "## Reference \n",
    "NLP Specialization course from Stanford university"
   ],
   "cell_type": "markdown",
   "metadata": {}
  }
 ]
}